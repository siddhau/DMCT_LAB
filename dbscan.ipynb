{
 "cells": [
  {
   "cell_type": "code",
   "execution_count": 34,
   "metadata": {},
   "outputs": [],
   "source": [
    "import numpy as np\n",
    "import matplotlib.pyplot as plt\n",
    "data = np.genfromtxt(\"iris_numeric.txt\",dtype=float,delimiter=\",\")"
   ]
  },
  {
   "cell_type": "code",
   "execution_count": 35,
   "metadata": {},
   "outputs": [],
   "source": [
    "data = data[:,0:4]\n",
    "rdata = data"
   ]
  },
  {
   "cell_type": "code",
   "execution_count": 36,
   "metadata": {},
   "outputs": [],
   "source": [
    "data = (data - np.mean(data,axis=0))/np.std(data,axis=0)\n"
   ]
  },
  {
   "cell_type": "code",
   "execution_count": 33,
   "metadata": {},
   "outputs": [
    {
     "name": "stdout",
     "output_type": "stream",
     "text": [
      "hello\n",
      "[ 1  1  1  1  1  1  1  1  1  1  1  1  1  1 -1 -1  1  1  2  1  1  1 -1  2\n",
      "  2  1  2  2  2  1  1  1 -1 -1  1  1  1  1  1  2  1 -1  1  1  1  1  1  1\n",
      "  1  1 -1 -1  2  2  2  2 -1 -1  2  2  2  2  2  2  2  2  2  2 -1  2  2  2\n",
      " -1  2  2  2  2  2  2  2  2  2  2  2  2 -1  2 -1  2  2  2  2  2 -1  2  2\n",
      "  2  2 -1  2 -1  2  2  2  2 -1 -1 -1 -1 -1  2  2  2  2 -1  2  2 -1 -1 -1\n",
      "  2  2 -1  2  2 -1  2  2  2 -1 -1 -1  2  2  2 -1 -1  2  2  2  2  2  2  2\n",
      "  2  2  2  2 -1  2]\n"
     ]
    }
   ],
   "source": [
    "def euclid_dist(vec1,vec2):\n",
    "    temp=0\n",
    "    for i in range(len(vec1)):\n",
    "        temp = temp + (vec2[i]-vec1[i])**2\n",
    "    dist = np.sqrt(temp)\n",
    "    return dist\n",
    "\n",
    "dist_mat = np.array([[euclid_dist(vec1,vec2) for vec2 in data] for vec1 in data])\n",
    "# print(dist_mat[0])\n",
    "# eps = 0.5\n",
    "# min_pt = 5\n",
    "mark = np.zeros((150,),dtype=int)\n",
    "label = np.zeros((150,),dtype=int)\n",
    "\n",
    "def out_core(idx,eps,min_pt):\n",
    "    cnt = [i for i in range(len(dist_mat[idx])) if dist_mat[idx][i] <= eps]\n",
    "    if len(cnt) >= min_pt:\n",
    "        neigh = [i for i in cnt if mark[i]==0]\n",
    "        mark[cnt] = 1\n",
    "        return neigh\n",
    "    else:\n",
    "        return [-1]\n",
    "\n",
    "def grow(neighbour,curr_lab,eps,min_pt):\n",
    "    neighbours = neighbour\n",
    "    i = 0\n",
    "    while(i < len(neighbours)):\n",
    "        if label[neighbours[i]] == 0:\n",
    "            label[neighbours[i]] = curr_lab\n",
    "            furth_neigh = out_core(neighbours[i],eps,min_pt)\n",
    "            if len(furth_neigh) == 1 and furth_neigh[0] == -1:\n",
    "                label[i] = curr_lab\n",
    "            else:\n",
    "                neighbours.extend(furth_neigh)\n",
    "        \n",
    "        i = i+1\n",
    "                \n",
    "    \n",
    "    \n",
    "def DBSCAN(data,eps,min_pt):\n",
    "    curr_lab = 1\n",
    "    for i in range(150):\n",
    "        if label[i] == 0:\n",
    "            x = out_core(i,eps,min_pt)\n",
    "            if len(x) == 1 and x[0] == -1:\n",
    "                label[i] = -1\n",
    "            else:\n",
    "                label[i] = curr_lab\n",
    "                grow(x,curr_lab,eps,min_pt)\n",
    "                curr_lab = curr_lab+1\n",
    "\n",
    "\n",
    "DBSCAN(data,0.5,5)\n",
    "print(label)\n",
    "\n"
   ]
  },
  {
   "cell_type": "code",
   "execution_count": 37,
   "metadata": {},
   "outputs": [],
   "source": [
    "\n",
    "\n",
    "label[label == -1] = 0"
   ]
  },
  {
   "cell_type": "code",
   "execution_count": null,
   "metadata": {},
   "outputs": [],
   "source": [
    "plt.figure()\n",
    "\n",
    "colors = [\"red\",\"black\",\"blue\"]\n",
    "for i in range(3):\n",
    "    plt.scatter()"
   ]
  }
 ],
 "metadata": {
  "kernelspec": {
   "display_name": "Python 3",
   "language": "python",
   "name": "python3"
  },
  "language_info": {
   "codemirror_mode": {
    "name": "ipython",
    "version": 3
   },
   "file_extension": ".py",
   "mimetype": "text/x-python",
   "name": "python",
   "nbconvert_exporter": "python",
   "pygments_lexer": "ipython3",
   "version": "3.6.5"
  }
 },
 "nbformat": 4,
 "nbformat_minor": 2
}
