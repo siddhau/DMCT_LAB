{
 "cells": [
  {
   "cell_type": "code",
   "execution_count": 16,
   "metadata": {
    "collapsed": true
   },
   "outputs": [],
   "source": [
    "import numpy as np\n"
   ]
  },
  {
   "cell_type": "code",
   "execution_count": 17,
   "metadata": {},
   "outputs": [],
   "source": [
    "inp=np.genfromtxt('iris_numeric.txt',delimiter=',');\n",
    "#inp"
   ]
  },
  {
   "cell_type": "code",
   "execution_count": 18,
   "metadata": {},
   "outputs": [],
   "source": [
    "data=inp[:,0:4]\n",
    "y=inp[:,4:5]\n",
    "mn=np.mean(data,axis=0)\n",
    "for i in range(len(data)):\n",
    "    for j in range(len(data[0])):\n",
    "        data[i][j]=data[i][j]>mn[j]\n",
    "#data"
   ]
  },
  {
   "cell_type": "code",
   "execution_count": 19,
   "metadata": {},
   "outputs": [
    {
     "name": "stdout",
     "output_type": "stream",
     "text": [
      "113 37\n"
     ]
    }
   ],
   "source": [
    "temp=np.random.permutation(range(len(data)))\n",
    "train=[]\n",
    "ytrain=[]\n",
    "test=[]\n",
    "ytest=[]\n",
    "for i in range(len(data)):\n",
    "    if i<(0.75*len(data)):\n",
    "        train.append(data[temp[i]])\n",
    "        ytrain.append(y[temp[i]])\n",
    "    else:\n",
    "        test.append(data[temp[i]])\n",
    "        ytest.append(y[temp[i]])\n",
    "train=np.array(train)\n",
    "ytrain=np.array(ytrain)\n",
    "test=np.array(test)\n",
    "ytest=np.array(ytest)\n",
    "print(len(train),len(test))"
   ]
  },
  {
   "cell_type": "code",
   "execution_count": 21,
   "metadata": {},
   "outputs": [],
   "source": [
    "def p(idx,gold,data):\n",
    "    num=np.double(np.sum(data[idx]==gold))\n",
    "    den=len(data)\n",
    "    return num/den\n",
    "def cp(idx,gold1,gold2,data,y):\n",
    "    num=den=0\n",
    "    for i in range(len(data)):\n",
    "        if y[i]==gold2:\n",
    "            den+=1\n",
    "            num+=(data[i][idx]==gold1)\n",
    "    return np.double(num)/den"
   ]
  },
  {
   "cell_type": "code",
   "execution_count": null,
   "metadata": {
    "collapsed": true
   },
   "outputs": [],
   "source": []
  }
 ],
 "metadata": {
  "kernelspec": {
   "display_name": "Python 3",
   "language": "python",
   "name": "python3"
  },
  "language_info": {
   "codemirror_mode": {
    "name": "ipython",
    "version": 3
   },
   "file_extension": ".py",
   "mimetype": "text/x-python",
   "name": "python",
   "nbconvert_exporter": "python",
   "pygments_lexer": "ipython3",
   "version": "3.6.1"
  }
 },
 "nbformat": 4,
 "nbformat_minor": 2
}
