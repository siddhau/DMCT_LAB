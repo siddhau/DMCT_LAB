{
 "cells": [
  {
   "cell_type": "code",
   "execution_count": 126,
   "metadata": {},
   "outputs": [],
   "source": [
    "import numpy as np\n",
    "import matplotlib.pyplot as plt\n",
    "\n",
    "data = np.genfromtxt('iris_numeric.txt',dtype=float,delimiter=\",\")"
   ]
  },
  {
   "cell_type": "code",
   "execution_count": 127,
   "metadata": {},
   "outputs": [],
   "source": [
    "data = data[:,0:4]"
   ]
  },
  {
   "cell_type": "code",
   "execution_count": 128,
   "metadata": {},
   "outputs": [],
   "source": [
    "def norm(X):\n",
    "    mean = np.mean(X,axis=0)\n",
    "    std = np.std(X,axis=0)\n",
    "    X = (X-mean)/std\n",
    "    return X\n",
    "\n",
    "data = norm(data)\n",
    "rdata = norm(data)\n",
    "clusters = [[i] for i in range(150)]\n"
   ]
  },
  {
   "cell_type": "code",
   "execution_count": null,
   "metadata": {},
   "outputs": [],
   "source": []
  },
  {
   "cell_type": "code",
   "execution_count": 129,
   "metadata": {
    "scrolled": false
   },
   "outputs": [],
   "source": [
    "def euclid_dist(vec1,vec2):\n",
    "    temp=0\n",
    "    for i in range(len(vec1)):\n",
    "        temp = temp + (vec2[i]-vec1[i])**2\n",
    "    dist = np.sqrt(temp)\n",
    "    return dist\n",
    "\n",
    "def min_val(X):\n",
    "    n,m=X.shape\n",
    "    idx = [0,0]\n",
    "    ans = 10\n",
    "    for i in range(n):\n",
    "        for j in range(m):\n",
    "            if X[i][j]<ans:\n",
    "                ans = X[i][j]\n",
    "                idx[0]=i\n",
    "                idx[1]=j\n",
    "    return idx\n",
    "    \n",
    "while(len(clusters)!=3):\n",
    "    dist_mat = np.array([[euclid_dist(vec1,vec2) for vec2 in data] for vec1 in data])\n",
    "    np.fill_diagonal(dist_mat,10)\n",
    "    idx = min_val(dist_mat)\n",
    "    clusters[idx[0]].extend(clusters[idx[1]])\n",
    "    clusters = np.delete(clusters,idx[1],axis=0)\n",
    "    data[idx[0]] = np.mean([data[idx[0]],data[idx[1]]],axis=0)\n",
    "    data = np.delete(data,idx[1],axis=0)\n",
    "    "
   ]
  },
  {
   "cell_type": "code",
   "execution_count": 130,
   "metadata": {},
   "outputs": [
    {
     "name": "stdout",
     "output_type": "stream",
     "text": [
      "\f",
      "\n"
     ]
    }
   ],
   "source": [
    "clear"
   ]
  },
  {
   "cell_type": "code",
   "execution_count": 133,
   "metadata": {},
   "outputs": [
    {
     "data": {
      "image/png": "[encoded data removed]",
      "text/plain": [
       "<Figure size 432x288 with 1 Axes>"
      ]
     },
     "metadata": {},
     "output_type": "display_data"
    }
   ],
   "source": [
    "plt.figure()\n",
    "colors = [\"red\",\"black\",\"blue\"]\n",
    "for i in range(3):\n",
    "    plt.scatter(rdata[clusters[i],0],rdata[clusters[i],1],c=colors[i],s=50)\n"
   ]
  },
  {
   "cell_type": "code",
   "execution_count": 108,
   "metadata": {},
   "outputs": [],
   "source": []
  },
  {
   "cell_type": "code",
   "execution_count": 109,
   "metadata": {},
   "outputs": [
    {
     "data": {
      "text/plain": [
       "(149, 4)"
      ]
     },
     "execution_count": 109,
     "metadata": {},
     "output_type": "execute_result"
    }
   ],
   "source": []
  },
  {
   "cell_type": "code",
   "execution_count": null,
   "metadata": {},
   "outputs": [],
   "source": []
  }
 ],
 "metadata": {
  "kernelspec": {
   "display_name": "Python 3",
   "language": "python",
   "name": "python3"
  },
  "language_info": {
   "codemirror_mode": {
    "name": "ipython",
    "version": 3
   },
   "file_extension": ".py",
   "mimetype": "text/x-python",
   "name": "python",
   "nbconvert_exporter": "python",
   "pygments_lexer": "ipython3",
   "version": "3.6.5"
  }
 },
 "nbformat": 4,
 "nbformat_minor": 2
}
