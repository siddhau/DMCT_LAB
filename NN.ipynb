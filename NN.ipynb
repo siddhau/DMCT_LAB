{
 "cells": [
  {
   "cell_type": "code",
   "execution_count": 23,
   "metadata": {},
   "outputs": [],
   "source": [
    "import numpy as np\n",
    "import math\n",
    "data = np.genfromtxt('iris_numeric.txt',delimiter=\",\",dtype=float)\n",
    "X_d = data[0:150,0:4]\n",
    "y_d = data[0:150,4]\n",
    "X_d = np.transpose(X_d)\n",
    "y_d = y_d.reshape((1,150))\n",
    "y_d[y_d!=2] = 0\n",
    "y_d[y_d==2] = 1"
   ]
  },
  {
   "cell_type": "code",
   "execution_count": 24,
   "metadata": {},
   "outputs": [],
   "source": [
    "class NeuralNet(object):\n",
    "    \n",
    "    def fit(self,data,labels,num):\n",
    "        self.X = data\n",
    "        self.Y = labels\n",
    "        self.Nh = num\n",
    "        self.N = data.shape[0]\n",
    "        self.M = data.shape[1]\n",
    "    \n",
    "    def init_weight(r,c):\n",
    "        return np.random.randn(r,c)\n",
    "    \n",
    "    def init_bias(r,c):\n",
    "        return np.zeros((r,c))\n",
    "    \n",
    "    def sigmoid(X):\n",
    "        X=np.array(X)\n",
    "        return 1/(1+np.exp(-X))\n",
    "    \n",
    "    def tanh(X):\n",
    "        X = np.array(X)\n",
    "        expx = np.exp(X)\n",
    "        expmx = np.exp(-X)\n",
    "        return (expx-expmx)/(expx+expmx)\n",
    "    \n",
    "    def dtanh(X):\n",
    "        X = np.array(X)\n",
    "        expx = np.exp(X)\n",
    "        expmx = np.exp(-X)\n",
    "        return 4/((expx +expmx)**2)\n",
    "        \n",
    "    \n",
    "    def accuracy(X,Y):\n",
    "        cnt = np.sum(X==Y)\n",
    "        return (cnt * 100)/M\n",
    "\n",
    "    def classify_nn(gn,alp):\n",
    "        gen = gn\n",
    "        W1 = init_weight(Nh,N)\n",
    "        B1 = init_bias(Nh,1)\n",
    "        W2 = init_weight(1,Nh)\n",
    "        B2 = init_bias(1,1)\n",
    "        alpha = alp\n",
    "        for i in range(0,gen):\n",
    "            Z1 = W1.dot(X) + B1\n",
    "            A1 = self.tanh(Z1)\n",
    "            Z2 = W2.dot(A1) + B2\n",
    "            A2 = sigmoid(Z2)\n",
    "            dw2 = ((A2 - Y).dot(A1.T))/M\n",
    "            db2 = np.sum(A2-Y)/M\n",
    "            W2 = W2 - alpha*dw1\n",
    "            B2 = B2 - alpha*db2\n",
    "            dz1 = ((W2.T).dot((A2-Y)))*dtanh(Z1)\n",
    "            dw1 = (dz1.dot(X.T))/M\n",
    "            db1 = np.sum(dz1,axis=1) / M\n",
    "            W1 = W1 - alpha*dw1\n",
    "            B1 = B1 - alpha*db1\n",
    "        \n",
    "        A2[A2>0.5] = 1\n",
    "        A2[A2<=0.5] = 0\n",
    "        \n",
    "        print(self.accuracy(A2,Y))\n",
    "            \n",
    "    \n",
    "            \n",
    "            \n",
    "            \n",
    "    \n",
    "    "
   ]
  },
  {
   "cell_type": "code",
   "execution_count": 25,
   "metadata": {},
   "outputs": [
    {
     "ename": "TypeError",
     "evalue": "classify_nn() takes 2 positional arguments but 3 were given",
     "output_type": "error",
     "traceback": [
      "\u001b[1;31m---------------------------------------------------------------------------\u001b[0m",
      "\u001b[1;31mTypeError\u001b[0m                                 Traceback (most recent call last)",
      "\u001b[1;32m<ipython-input-25-7cef542a4867>\u001b[0m in \u001b[0;36m<module>\u001b[1;34m()\u001b[0m\n\u001b[0;32m      1\u001b[0m \u001b[0mclf\u001b[0m \u001b[1;33m=\u001b[0m \u001b[0mNeuralNet\u001b[0m\u001b[1;33m(\u001b[0m\u001b[1;33m)\u001b[0m\u001b[1;33m\u001b[0m\u001b[0m\n\u001b[0;32m      2\u001b[0m \u001b[0mclf\u001b[0m\u001b[1;33m.\u001b[0m\u001b[0mfit\u001b[0m\u001b[1;33m(\u001b[0m\u001b[0mX_d\u001b[0m\u001b[1;33m,\u001b[0m\u001b[0my_d\u001b[0m\u001b[1;33m,\u001b[0m\u001b[1;36m6\u001b[0m\u001b[1;33m)\u001b[0m\u001b[1;33m\u001b[0m\u001b[0m\n\u001b[1;32m----> 3\u001b[1;33m \u001b[0mclf\u001b[0m\u001b[1;33m.\u001b[0m\u001b[0mclassify_nn\u001b[0m\u001b[1;33m(\u001b[0m\u001b[1;36m200\u001b[0m\u001b[1;33m,\u001b[0m\u001b[1;36m0.1\u001b[0m\u001b[1;33m)\u001b[0m\u001b[1;33m\u001b[0m\u001b[0m\n\u001b[0m",
      "\u001b[1;31mTypeError\u001b[0m: classify_nn() takes 2 positional arguments but 3 were given"
     ]
    }
   ],
   "source": [
    "clf = NeuralNet()\n",
    "clf.fit(X_d,y_d,6)\n",
    "clf.classify_nn(200,0.1)"
   ]
  },
  {
   "cell_type": "code",
   "execution_count": null,
   "metadata": {},
   "outputs": [],
   "source": []
  }
 ],
 "metadata": {
  "kernelspec": {
   "display_name": "Python 3",
   "language": "python",
   "name": "python3"
  },
  "language_info": {
   "codemirror_mode": {
    "name": "ipython",
    "version": 3
   },
   "file_extension": ".py",
   "mimetype": "text/x-python",
   "name": "python",
   "nbconvert_exporter": "python",
   "pygments_lexer": "ipython3",
   "version": "3.6.5"
  }
 },
 "nbformat": 4,
 "nbformat_minor": 2
}
